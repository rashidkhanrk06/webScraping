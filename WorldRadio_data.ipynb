{
 "cells": [
  {
   "cell_type": "code",
   "execution_count": 1,
   "id": "e16f0f8a",
   "metadata": {},
   "outputs": [
    {
     "name": "stdout",
     "output_type": "stream",
     "text": [
      "200\n"
     ]
    }
   ],
   "source": [
    "import requests\n",
    "\n",
    "url = \"https://world-radio-api.p.rapidapi.com/\"\n",
    "\n",
    "querystring = {\"q\":\"instrumental\"}\n",
    "\n",
    "headers = {\n",
    "    \"key\",\n",
    "    \"X-RapidAPI-Host\": \"world-radio-api.p.rapidapi.com\"\n",
    "}\n",
    "\n",
    "response = requests.get(url, headers=headers, params=querystring)\n",
    "\n",
    "\n",
    "print(response.status_code)"
   ]
  },
  {
   "cell_type": "code",
   "execution_count": 2,
   "id": "62b0dc22",
   "metadata": {},
   "outputs": [],
   "source": [
    "import pandas as pd\n",
    "pd.set_option('display.max_columns',None)"
   ]
  },
  {
   "cell_type": "code",
   "execution_count": 3,
   "id": "fdccaafd",
   "metadata": {},
   "outputs": [],
   "source": [
    "df = pd.DataFrame(response.json()['d'])"
   ]
  },
  {
   "cell_type": "code",
   "execution_count": 4,
   "id": "29344184",
   "metadata": {},
   "outputs": [
    {
     "data": {
      "text/html": [
       "<div>\n",
       "<style scoped>\n",
       "    .dataframe tbody tr th:only-of-type {\n",
       "        vertical-align: middle;\n",
       "    }\n",
       "\n",
       "    .dataframe tbody tr th {\n",
       "        vertical-align: top;\n",
       "    }\n",
       "\n",
       "    .dataframe thead th {\n",
       "        text-align: right;\n",
       "    }\n",
       "</style>\n",
       "<table border=\"1\" class=\"dataframe\">\n",
       "  <thead>\n",
       "    <tr style=\"text-align: right;\">\n",
       "      <th></th>\n",
       "      <th>name</th>\n",
       "      <th>url1</th>\n",
       "      <th>url2</th>\n",
       "      <th>web</th>\n",
       "      <th>ico</th>\n",
       "      <th>genre</th>\n",
       "      <th>country</th>\n",
       "      <th>iso</th>\n",
       "      <th>city</th>\n",
       "      <th>language</th>\n",
       "      <th>codec</th>\n",
       "      <th>lat</th>\n",
       "      <th>lon</th>\n",
       "    </tr>\n",
       "  </thead>\n",
       "  <tbody>\n",
       "    <tr>\n",
       "      <th>0</th>\n",
       "      <td>__SOLOPIANO__ by rautemusik (rm.fm)</td>\n",
       "      <td>https://solopiano-high.rautemusik.fm/?ref=radi...</td>\n",
       "      <td>https://rautemusik-de-hz-fal-stream17.radiohos...</td>\n",
       "      <td>https://www.rm.fm/solopiano</td>\n",
       "      <td>None</td>\n",
       "      <td>hits,instrumental,klavier,new age piano,piano,...</td>\n",
       "      <td>Germany</td>\n",
       "      <td>DE</td>\n",
       "      <td>North Rhine-Westphalia</td>\n",
       "      <td>english,german</td>\n",
       "      <td>MP3</td>\n",
       "      <td>None</td>\n",
       "      <td>None</td>\n",
       "    </tr>\n",
       "    <tr>\n",
       "      <th>1</th>\n",
       "      <td>#1 SMOOTH JAZZ ALL STARS</td>\n",
       "      <td>https://giorgia.radiobellissima.it/radio/8280/...</td>\n",
       "      <td>https://giorgia.radiobellissima.it/radio/8280/...</td>\n",
       "      <td>https://listen.openstream.co/6389</td>\n",
       "      <td>https://static.wixstatic.com/media/f361b3_441b...</td>\n",
       "      <td>192kbps,cool music seduction,high quality audi...</td>\n",
       "      <td>Canada</td>\n",
       "      <td>CA</td>\n",
       "      <td>Ontario</td>\n",
       "      <td>english</td>\n",
       "      <td>MP3</td>\n",
       "      <td>43.637164835151</td>\n",
       "      <td>-79.406993222265</td>\n",
       "    </tr>\n",
       "    <tr>\n",
       "      <th>2</th>\n",
       "      <td>0nlineradio HÄNDEL</td>\n",
       "      <td>https://stream.0nlineradio.com/haendel?ref=rad...</td>\n",
       "      <td>https://stream.0nlineradio.com/haendel?ref=rad...</td>\n",
       "      <td>https://0nlineradio.com/</td>\n",
       "      <td>https://i.ibb.co/y8Pcv7T/HA-NDEL-NEW.jpg</td>\n",
       "      <td>classic,classic jazz,classical,classical music...</td>\n",
       "      <td>Germany</td>\n",
       "      <td>DE</td>\n",
       "      <td>NRW</td>\n",
       "      <td>english,german</td>\n",
       "      <td>MP3</td>\n",
       "      <td>50.906496882262</td>\n",
       "      <td>8.61328125</td>\n",
       "    </tr>\n",
       "    <tr>\n",
       "      <th>3</th>\n",
       "      <td>0nlineradio VIVALDI</td>\n",
       "      <td>https://stream.0nlineradio.com/vivaldi?ref=rad...</td>\n",
       "      <td>https://stream.0nlineradio.com/vivaldi?ref=rad...</td>\n",
       "      <td>https://0nlineradio.com/</td>\n",
       "      <td>https://i.ibb.co/HKNTfSQ/VIVALDI-NEW.jpg</td>\n",
       "      <td>classic,classical,classical music,classics,ins...</td>\n",
       "      <td>Germany</td>\n",
       "      <td>DE</td>\n",
       "      <td>NRW</td>\n",
       "      <td>english,german</td>\n",
       "      <td>MP3</td>\n",
       "      <td>50.461001115992</td>\n",
       "      <td>7.91015625</td>\n",
       "    </tr>\n",
       "    <tr>\n",
       "      <th>4</th>\n",
       "      <td>1000 Melodien</td>\n",
       "      <td>http://stream.laut.fm/1000melodien</td>\n",
       "      <td>http://1000melodien.stream.laut.fm/1000melodie...</td>\n",
       "      <td>http://1000melodien.de/</td>\n",
       "      <td>http://1000melodien.de/wp-content/themes/twent...</td>\n",
       "      <td>ambient,easy listening,instrumental</td>\n",
       "      <td>Germany</td>\n",
       "      <td>DE</td>\n",
       "      <td>None</td>\n",
       "      <td>None</td>\n",
       "      <td>MP3</td>\n",
       "      <td>None</td>\n",
       "      <td>None</td>\n",
       "    </tr>\n",
       "  </tbody>\n",
       "</table>\n",
       "</div>"
      ],
      "text/plain": [
       "                                  name  \\\n",
       "0  __SOLOPIANO__ by rautemusik (rm.fm)   \n",
       "1             #1 SMOOTH JAZZ ALL STARS   \n",
       "2                   0nlineradio HÄNDEL   \n",
       "3                  0nlineradio VIVALDI   \n",
       "4                        1000 Melodien   \n",
       "\n",
       "                                                url1  \\\n",
       "0  https://solopiano-high.rautemusik.fm/?ref=radi...   \n",
       "1  https://giorgia.radiobellissima.it/radio/8280/...   \n",
       "2  https://stream.0nlineradio.com/haendel?ref=rad...   \n",
       "3  https://stream.0nlineradio.com/vivaldi?ref=rad...   \n",
       "4                 http://stream.laut.fm/1000melodien   \n",
       "\n",
       "                                                url2  \\\n",
       "0  https://rautemusik-de-hz-fal-stream17.radiohos...   \n",
       "1  https://giorgia.radiobellissima.it/radio/8280/...   \n",
       "2  https://stream.0nlineradio.com/haendel?ref=rad...   \n",
       "3  https://stream.0nlineradio.com/vivaldi?ref=rad...   \n",
       "4  http://1000melodien.stream.laut.fm/1000melodie...   \n",
       "\n",
       "                                 web  \\\n",
       "0        https://www.rm.fm/solopiano   \n",
       "1  https://listen.openstream.co/6389   \n",
       "2           https://0nlineradio.com/   \n",
       "3           https://0nlineradio.com/   \n",
       "4            http://1000melodien.de/   \n",
       "\n",
       "                                                 ico  \\\n",
       "0                                               None   \n",
       "1  https://static.wixstatic.com/media/f361b3_441b...   \n",
       "2           https://i.ibb.co/y8Pcv7T/HA-NDEL-NEW.jpg   \n",
       "3           https://i.ibb.co/HKNTfSQ/VIVALDI-NEW.jpg   \n",
       "4  http://1000melodien.de/wp-content/themes/twent...   \n",
       "\n",
       "                                               genre  country iso  \\\n",
       "0  hits,instrumental,klavier,new age piano,piano,...  Germany  DE   \n",
       "1  192kbps,cool music seduction,high quality audi...   Canada  CA   \n",
       "2  classic,classic jazz,classical,classical music...  Germany  DE   \n",
       "3  classic,classical,classical music,classics,ins...  Germany  DE   \n",
       "4                ambient,easy listening,instrumental  Germany  DE   \n",
       "\n",
       "                     city        language codec              lat  \\\n",
       "0  North Rhine-Westphalia  english,german   MP3             None   \n",
       "1                 Ontario         english   MP3  43.637164835151   \n",
       "2                     NRW  english,german   MP3  50.906496882262   \n",
       "3                     NRW  english,german   MP3  50.461001115992   \n",
       "4                    None            None   MP3             None   \n",
       "\n",
       "                lon  \n",
       "0              None  \n",
       "1  -79.406993222265  \n",
       "2        8.61328125  \n",
       "3        7.91015625  \n",
       "4              None  "
      ]
     },
     "execution_count": 4,
     "metadata": {},
     "output_type": "execute_result"
    }
   ],
   "source": [
    "df.head()"
   ]
  },
  {
   "cell_type": "code",
   "execution_count": 5,
   "id": "05e18dc0",
   "metadata": {},
   "outputs": [
    {
     "data": {
      "text/plain": [
       "(156, 13)"
      ]
     },
     "execution_count": 5,
     "metadata": {},
     "output_type": "execute_result"
    }
   ],
   "source": [
    "df.shape"
   ]
  },
  {
   "cell_type": "code",
   "execution_count": 6,
   "id": "1fac81d9",
   "metadata": {},
   "outputs": [],
   "source": [
    "df.to_csv('world_radio.csv',index=False)"
   ]
  },
  {
   "cell_type": "code",
   "execution_count": null,
   "id": "a154251a",
   "metadata": {},
   "outputs": [],
   "source": []
  }
 ],
 "metadata": {
  "kernelspec": {
   "display_name": "Python 3 (ipykernel)",
   "language": "python",
   "name": "python3"
  },
  "language_info": {
   "codemirror_mode": {
    "name": "ipython",
    "version": 3
   },
   "file_extension": ".py",
   "mimetype": "text/x-python",
   "name": "python",
   "nbconvert_exporter": "python",
   "pygments_lexer": "ipython3",
   "version": "3.9.13"
  }
 },
 "nbformat": 4,
 "nbformat_minor": 5
}
