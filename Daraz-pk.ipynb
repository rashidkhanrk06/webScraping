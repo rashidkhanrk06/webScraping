{
 "cells": [
  {
   "cell_type": "code",
   "execution_count": 1,
   "id": "4f11acc6",
   "metadata": {},
   "outputs": [],
   "source": [
    "import requests\n",
    "from bs4 import BeautifulSoup\n",
    "import json\n",
    "import re\n",
    "import pandas as pd\n",
    "import time\n",
    "pd.set_option('display.max_columns',None)\n",
    "# pd.set_option('max_colwidth' , None)"
   ]
  },
  {
   "cell_type": "markdown",
   "id": "2d8797bf",
   "metadata": {},
   "source": [
    "* 'https://www.daraz.pk/womens-lawn/?page=1&spm=a2a0e.home.cate_4.1.35e34076QUW0yk"
   ]
  },
  {
   "cell_type": "code",
   "execution_count": 2,
   "id": "3f89f599",
   "metadata": {},
   "outputs": [],
   "source": [
    "def get_html(url):\n",
    "    try:\n",
    "        headers={'User-Agent':'Mozilla/5.0 (Windows NT 6.3; Win 64 ; x64) Apple WeKit /537.36(KHTML , like Gecko) Chrome/80.0.3987.162 Safari/537.36'}\n",
    "        res=requests.get(url,headers=headers)\n",
    "        code = res.status_code\n",
    "        return BeautifulSoup(res.text,'html.parser')\n",
    "    except Exception as e:\n",
    "        print(e)"
   ]
  },
  {
   "cell_type": "code",
   "execution_count": 3,
   "id": "1331007e",
   "metadata": {},
   "outputs": [],
   "source": [
    "def to_string(soup):\n",
    "    json_data = soup.find_all('script')[3].text\n",
    "    pattern= re.compile('(.*?)\\{')\n",
    "    num = pattern.match(json_data).span()[1]\n",
    "    data=json.loads(json_data[num-1:])\n",
    "    return data"
   ]
  },
  {
   "cell_type": "code",
   "execution_count": 4,
   "id": "d96414f2",
   "metadata": {},
   "outputs": [],
   "source": [
    "def get_product_detail(productItems:list,data:dict):\n",
    "    result_map = map(lambda x: {x:[]},productItems)\n",
    "    products = {key: value for item in result_map for key, value in item.items()}\n",
    "    listItems = data['mods']['listItems']\n",
    "    for item in listItems:\n",
    "        for element in productItems:\n",
    "            products[element].append(item.get(element,None))\n",
    "           \n",
    "    return products"
   ]
  },
  {
   "cell_type": "code",
   "execution_count": 5,
   "id": "ce4dccc7",
   "metadata": {},
   "outputs": [],
   "source": [
    "pages = 25\n",
    "products = ['brandName',\n",
    "            'name',\n",
    "            'description',\n",
    "            'location',\n",
    "            'ratingScore',\n",
    "            'review',\n",
    "            'price'\n",
    "            ]\n",
    "daraz_pk=pd.DataFrame(columns=products)\n",
    "\n",
    "for page in range(1,pages+1):\n",
    "    \n",
    "    url = f'https://www.daraz.pk/womens-lawn/?page={page}&spm=a2a0e.home.cate_4.1.35e34076QUW0yk'\n",
    "    soup = get_html(url)\n",
    "    data= to_string(soup)\n",
    "    data=get_product_detail(products,data)\n",
    "    daraz_pk=pd.concat([daraz_pk,pd.DataFrame(data)],ignore_index=True)    "
   ]
  },
  {
   "cell_type": "code",
   "execution_count": 6,
   "id": "5ace679d",
   "metadata": {},
   "outputs": [
    {
     "data": {
      "text/plain": [
       "(1000, 7)"
      ]
     },
     "execution_count": 6,
     "metadata": {},
     "output_type": "execute_result"
    }
   ],
   "source": [
    "daraz_pk.shape"
   ]
  },
  {
   "cell_type": "code",
   "execution_count": 7,
   "id": "0fa99ca0",
   "metadata": {},
   "outputs": [
    {
     "data": {
      "text/html": [
       "<div>\n",
       "<style scoped>\n",
       "    .dataframe tbody tr th:only-of-type {\n",
       "        vertical-align: middle;\n",
       "    }\n",
       "\n",
       "    .dataframe tbody tr th {\n",
       "        vertical-align: top;\n",
       "    }\n",
       "\n",
       "    .dataframe thead th {\n",
       "        text-align: right;\n",
       "    }\n",
       "</style>\n",
       "<table border=\"1\" class=\"dataframe\">\n",
       "  <thead>\n",
       "    <tr style=\"text-align: right;\">\n",
       "      <th></th>\n",
       "      <th>brandName</th>\n",
       "      <th>name</th>\n",
       "      <th>description</th>\n",
       "      <th>location</th>\n",
       "      <th>ratingScore</th>\n",
       "      <th>review</th>\n",
       "      <th>price</th>\n",
       "    </tr>\n",
       "  </thead>\n",
       "  <tbody>\n",
       "    <tr>\n",
       "      <th>0</th>\n",
       "      <td>Libaas Hub</td>\n",
       "      <td>Libaas Hub Katan Silk 2Piece Un-stitched Suit ...</td>\n",
       "      <td>[Brand:Libaas Hub, Gender: Women, Katan Silk U...</td>\n",
       "      <td>Pakistan</td>\n",
       "      <td>4.1</td>\n",
       "      <td>472</td>\n",
       "      <td>490.00</td>\n",
       "    </tr>\n",
       "    <tr>\n",
       "      <th>1</th>\n",
       "      <td>Ghazi Fabric</td>\n",
       "      <td>Ghazi fabric Unstitched Linen 2 piece suit for...</td>\n",
       "      <td>[Premium quality fabric Unstitched Gold Printe...</td>\n",
       "      <td>Pakistan</td>\n",
       "      <td>4.6</td>\n",
       "      <td>353</td>\n",
       "      <td>1280.00</td>\n",
       "    </tr>\n",
       "    <tr>\n",
       "      <th>2</th>\n",
       "      <td>No Brand</td>\n",
       "      <td>Ladies Navy Blue Embroidered Shalwar Kameez (U...</td>\n",
       "      <td>[Color &amp;amp; Design: As Shown in Picture, High...</td>\n",
       "      <td>Pakistan</td>\n",
       "      <td>4.8</td>\n",
       "      <td>404</td>\n",
       "      <td>2499.00</td>\n",
       "    </tr>\n",
       "    <tr>\n",
       "      <th>3</th>\n",
       "      <td>No Brand</td>\n",
       "      <td>cultural day special Ajrak shirt Dupatta</td>\n",
       "      <td>[Ajrak 2pc dress]</td>\n",
       "      <td>Pakistan</td>\n",
       "      <td>5</td>\n",
       "      <td>1</td>\n",
       "      <td>1800.00</td>\n",
       "    </tr>\n",
       "    <tr>\n",
       "      <th>4</th>\n",
       "      <td>No Brand</td>\n",
       "      <td>Ajrak Chiffon 2pc</td>\n",
       "      <td>[Ajrak Chiffon Shirt  &amp;amp; Chiffon Ajrak Dupa...</td>\n",
       "      <td>Pakistan</td>\n",
       "      <td>5</td>\n",
       "      <td>2</td>\n",
       "      <td>2250.00</td>\n",
       "    </tr>\n",
       "  </tbody>\n",
       "</table>\n",
       "</div>"
      ],
      "text/plain": [
       "      brandName                                               name  \\\n",
       "0    Libaas Hub  Libaas Hub Katan Silk 2Piece Un-stitched Suit ...   \n",
       "1  Ghazi Fabric  Ghazi fabric Unstitched Linen 2 piece suit for...   \n",
       "2      No Brand  Ladies Navy Blue Embroidered Shalwar Kameez (U...   \n",
       "3      No Brand           cultural day special Ajrak shirt Dupatta   \n",
       "4      No Brand                                  Ajrak Chiffon 2pc   \n",
       "\n",
       "                                         description  location ratingScore  \\\n",
       "0  [Brand:Libaas Hub, Gender: Women, Katan Silk U...  Pakistan         4.1   \n",
       "1  [Premium quality fabric Unstitched Gold Printe...  Pakistan         4.6   \n",
       "2  [Color &amp; Design: As Shown in Picture, High...  Pakistan         4.8   \n",
       "3                                  [Ajrak 2pc dress]  Pakistan           5   \n",
       "4  [Ajrak Chiffon Shirt  &amp; Chiffon Ajrak Dupa...  Pakistan           5   \n",
       "\n",
       "  review    price  \n",
       "0    472   490.00  \n",
       "1    353  1280.00  \n",
       "2    404  2499.00  \n",
       "3      1  1800.00  \n",
       "4      2  2250.00  "
      ]
     },
     "execution_count": 7,
     "metadata": {},
     "output_type": "execute_result"
    }
   ],
   "source": [
    "daraz_pk.head()"
   ]
  },
  {
   "cell_type": "code",
   "execution_count": null,
   "id": "0c1f930e",
   "metadata": {},
   "outputs": [],
   "source": []
  }
 ],
 "metadata": {
  "kernelspec": {
   "display_name": "Python 3 (ipykernel)",
   "language": "python",
   "name": "python3"
  },
  "language_info": {
   "codemirror_mode": {
    "name": "ipython",
    "version": 3
   },
   "file_extension": ".py",
   "mimetype": "text/x-python",
   "name": "python",
   "nbconvert_exporter": "python",
   "pygments_lexer": "ipython3",
   "version": "3.9.13"
  }
 },
 "nbformat": 4,
 "nbformat_minor": 5
}
