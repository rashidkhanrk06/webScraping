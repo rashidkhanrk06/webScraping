{
 "cells": [
  {
   "cell_type": "code",
   "execution_count": 1,
   "id": "229f1eae",
   "metadata": {},
   "outputs": [],
   "source": [
    "import requests\n",
    "from bs4 import BeautifulSoup"
   ]
  },
  {
   "cell_type": "code",
   "execution_count": 2,
   "id": "72c9007f",
   "metadata": {},
   "outputs": [
    {
     "data": {
      "text/plain": [
       "200"
      ]
     },
     "execution_count": 2,
     "metadata": {},
     "output_type": "execute_result"
    }
   ],
   "source": [
    "url = 'https://webscraper.io/test-sites/e-commerce/allinone/computers/laptops'\n",
    "# headers={'User-Agent':'Mozilla/5.0 (Windows NT 6.3; Win 64 ; x64) Apple WeKit /537.36(KHTML , like Gecko) Chrome/80.0.3987.162 Safari/537.36'}\n",
    "web_page = requests.get(url)\n",
    "web_page.status_code"
   ]
  },
  {
   "cell_type": "code",
   "execution_count": 3,
   "id": "4844860b",
   "metadata": {},
   "outputs": [],
   "source": [
    "soup = BeautifulSoup(web_page.text,'lxml')"
   ]
  },
  {
   "cell_type": "code",
   "execution_count": 4,
   "id": "40c29b77",
   "metadata": {},
   "outputs": [
    {
     "data": {
      "text/plain": [
       "bs4.BeautifulSoup"
      ]
     },
     "execution_count": 4,
     "metadata": {},
     "output_type": "execute_result"
    }
   ],
   "source": [
    "type(soup)"
   ]
  },
  {
   "cell_type": "code",
   "execution_count": 5,
   "id": "b6a49f9d",
   "metadata": {},
   "outputs": [],
   "source": [
    "title = []\n",
    "price = []\n",
    "description = []\n",
    "review_counts = []\n",
    "ratings = []\n",
    "boxes = soup.find_all('div', class_ ='card-body')\n",
    "\n",
    "for box in boxes:\n",
    "    title.append(box.find('a',class_='title').text.strip('...'))\n",
    "    price.append(box.find('h4', class_ = 'float-end price card-title pull-right').text)\n",
    "    description.append(box.find('p',class_ = 'description card-text').text)\n",
    "    review_counts.append(box.find('p',class_ = \"float-end\").text)\n",
    "    second_div_p = box.find('div', class_='ratings').find('p', {'data-rating': True})\n",
    "    ratings.append(f\"{second_div_p['data-rating']}/5\")\n",
    "    \n",
    "data ={'Title':title,\n",
    "       'Price':price,\n",
    "       'Description':description,\n",
    "       'Review_Counts': review_counts,\n",
    "       'Ratings': ratings\n",
    "    \n",
    "      }\n"
   ]
  },
  {
   "cell_type": "code",
   "execution_count": 6,
   "id": "56473fe1",
   "metadata": {},
   "outputs": [
    {
     "name": "stdout",
     "output_type": "stream",
     "text": [
      "117\n",
      "117\n",
      "117\n",
      "117\n",
      "117\n"
     ]
    }
   ],
   "source": [
    "print(len(title))\n",
    "print(len(price))\n",
    "print(len(description))\n",
    "print(len(review_counts))\n",
    "print(len(ratings))"
   ]
  },
  {
   "cell_type": "code",
   "execution_count": 7,
   "id": "76990115",
   "metadata": {},
   "outputs": [
    {
     "data": {
      "text/html": [
       "<div>\n",
       "<style scoped>\n",
       "    .dataframe tbody tr th:only-of-type {\n",
       "        vertical-align: middle;\n",
       "    }\n",
       "\n",
       "    .dataframe tbody tr th {\n",
       "        vertical-align: top;\n",
       "    }\n",
       "\n",
       "    .dataframe thead th {\n",
       "        text-align: right;\n",
       "    }\n",
       "</style>\n",
       "<table border=\"1\" class=\"dataframe\">\n",
       "  <thead>\n",
       "    <tr style=\"text-align: right;\">\n",
       "      <th></th>\n",
       "      <th>Title</th>\n",
       "      <th>Price</th>\n",
       "      <th>Description</th>\n",
       "      <th>Review_Counts</th>\n",
       "      <th>Ratings</th>\n",
       "    </tr>\n",
       "  </thead>\n",
       "  <tbody>\n",
       "    <tr>\n",
       "      <th>0</th>\n",
       "      <td>Asus VivoBook</td>\n",
       "      <td>$295.99</td>\n",
       "      <td>Asus VivoBook X441NA-GA190 Chocolate Black, 14...</td>\n",
       "      <td>14 reviews</td>\n",
       "      <td>3/5</td>\n",
       "    </tr>\n",
       "    <tr>\n",
       "      <th>1</th>\n",
       "      <td>Prestigio Smar</td>\n",
       "      <td>$299.00</td>\n",
       "      <td>Prestigio SmartBook 133S Dark Grey, 13.3\" FHD ...</td>\n",
       "      <td>8 reviews</td>\n",
       "      <td>2/5</td>\n",
       "    </tr>\n",
       "    <tr>\n",
       "      <th>2</th>\n",
       "      <td>Prestigio Smar</td>\n",
       "      <td>$299.00</td>\n",
       "      <td>Prestigio SmartBook 133S Gold, 13.3\" FHD IPS, ...</td>\n",
       "      <td>12 reviews</td>\n",
       "      <td>4/5</td>\n",
       "    </tr>\n",
       "    <tr>\n",
       "      <th>3</th>\n",
       "      <td>Aspire E1-510</td>\n",
       "      <td>$306.99</td>\n",
       "      <td>15.6\", Pentium N3520 2.16GHz, 4GB, 500GB, Linux</td>\n",
       "      <td>2 reviews</td>\n",
       "      <td>3/5</td>\n",
       "    </tr>\n",
       "    <tr>\n",
       "      <th>4</th>\n",
       "      <td>Lenovo V110-15</td>\n",
       "      <td>$321.94</td>\n",
       "      <td>Lenovo V110-15IAP, 15.6\" HD, Celeron N3350 1.1...</td>\n",
       "      <td>5 reviews</td>\n",
       "      <td>3/5</td>\n",
       "    </tr>\n",
       "  </tbody>\n",
       "</table>\n",
       "</div>"
      ],
      "text/plain": [
       "            Title    Price                                        Description  \\\n",
       "0   Asus VivoBook  $295.99  Asus VivoBook X441NA-GA190 Chocolate Black, 14...   \n",
       "1  Prestigio Smar  $299.00  Prestigio SmartBook 133S Dark Grey, 13.3\" FHD ...   \n",
       "2  Prestigio Smar  $299.00  Prestigio SmartBook 133S Gold, 13.3\" FHD IPS, ...   \n",
       "3   Aspire E1-510  $306.99    15.6\", Pentium N3520 2.16GHz, 4GB, 500GB, Linux   \n",
       "4  Lenovo V110-15  $321.94  Lenovo V110-15IAP, 15.6\" HD, Celeron N3350 1.1...   \n",
       "\n",
       "  Review_Counts Ratings  \n",
       "0    14 reviews     3/5  \n",
       "1     8 reviews     2/5  \n",
       "2    12 reviews     4/5  \n",
       "3     2 reviews     3/5  \n",
       "4     5 reviews     3/5  "
      ]
     },
     "execution_count": 7,
     "metadata": {},
     "output_type": "execute_result"
    }
   ],
   "source": [
    "import pandas as pd\n",
    "df = pd.DataFrame(data)\n",
    "df.head()"
   ]
  },
  {
   "cell_type": "code",
   "execution_count": 8,
   "id": "d0ae8f4f",
   "metadata": {},
   "outputs": [
    {
     "data": {
      "text/plain": [
       "(117, 5)"
      ]
     },
     "execution_count": 8,
     "metadata": {},
     "output_type": "execute_result"
    }
   ],
   "source": [
    "df.shape"
   ]
  },
  {
   "cell_type": "code",
   "execution_count": 9,
   "id": "bc746fc3",
   "metadata": {},
   "outputs": [],
   "source": [
    "df.to_csv('laptops.csv',index=False)"
   ]
  }
 ],
 "metadata": {
  "kernelspec": {
   "display_name": "Python 3 (ipykernel)",
   "language": "python",
   "name": "python3"
  },
  "language_info": {
   "codemirror_mode": {
    "name": "ipython",
    "version": 3
   },
   "file_extension": ".py",
   "mimetype": "text/x-python",
   "name": "python",
   "nbconvert_exporter": "python",
   "pygments_lexer": "ipython3",
   "version": "3.9.13"
  }
 },
 "nbformat": 4,
 "nbformat_minor": 5
}
